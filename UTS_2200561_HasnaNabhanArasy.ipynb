{
  "nbformat": 4,
  "nbformat_minor": 0,
  "metadata": {
    "colab": {
      "provenance": [],
      "authorship_tag": "ABX9TyMcpTCwi+LWpnOaHRPF62oO",
      "include_colab_link": true
    },
    "kernelspec": {
      "name": "python3",
      "display_name": "Python 3"
    },
    "language_info": {
      "name": "python"
    }
  },
  "cells": [
    {
      "cell_type": "markdown",
      "metadata": {
        "id": "view-in-github",
        "colab_type": "text"
      },
      "source": [
        "<a href=\"https://colab.research.google.com/github/HasnaNabhan23/Promnet/blob/main/UTS_2200561_HasnaNabhanArasy.ipynb\" target=\"_parent\"><img src=\"https://colab.research.google.com/assets/colab-badge.svg\" alt=\"Open In Colab\"/></a>"
      ]
    },
    {
      "cell_type": "markdown",
      "source": [
        "**Soal 1** Lengkapi (atau modifikasi) program berikut untuk membuat program sederhana untuk bertujuan untuk:\n",
        "\n",
        "1. Memfasilitasi menginputkan NIM\n",
        "2. Output yang dihasilkan adalah nama mahasiswa yang bersesuaian\n",
        "3. Jika NIM yang diinputkan oleh user belum terdata, program akan menambahkan NIM sebagai data baru dan meminta nama untuk ditambahkan juga\n",
        "\n",
        "![Screenshot 2023-11-08 190103.png](data:image/png;base64,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)"
      ],
      "metadata": {
        "id": "swjPXsl3ysZn"
      }
    },
    {
      "cell_type": "code",
      "execution_count": 1,
      "metadata": {
        "colab": {
          "base_uri": "https://localhost:8080/"
        },
        "id": "rpidbKV3uL61",
        "outputId": "818f8fe6-7423-47c2-dd79-d27f01b2221b"
      },
      "outputs": [
        {
          "output_type": "stream",
          "name": "stdout",
          "text": [
            "Input NIM mahasiswa yang akan ditampilkan namanya\n",
            "20121\n",
            "Nama Mahasiswa untuk NIM 20121 adalah Nama1\n",
            "\n",
            "Data Nama Mahasiswa:\n",
            "No  |  NIM   |  Nama\n",
            "1.  | 20121  | Nama1\n",
            "2.  | 20211  | Nama2\n",
            "3.  | 20312  | Nama3\n"
          ]
        }
      ],
      "source": [
        "# Simpan Data Nama Mahasiswa\n",
        "Nama = [\"Nama1\", \"Nama2\", \"Nama3\"]\n",
        "NIM = [20121, 20211, 20312]\n",
        "\n",
        "# Meminta data NIM pada user\n",
        "print('Input NIM mahasiswa yang akan ditampilkan namanya')\n",
        "NIM_Mahasiswa = int(input())\n",
        "\n",
        "# Mencari indeks NIM_Mahasiswa dalam daftar NIM\n",
        "if NIM_Mahasiswa in NIM:\n",
        "    # Jika input user terdapat dalam database, tampilkan Nama Mahasiswa yang sesuai dengan NIM\n",
        "    i = NIM.index(NIM_Mahasiswa)\n",
        "    print('Nama Mahasiswa untuk NIM', NIM_Mahasiswa, 'adalah', Nama[i])\n",
        "else:\n",
        "    # Jika input user belum ada pada database\n",
        "    # tambahkan NIM input user pada database\n",
        "    # minta user untuk menginputkan nama yang sesuai\n",
        "    print('Nama Mahasiswa untuk NIM', NIM_Mahasiswa, 'belum terdata')\n",
        "    Nama_Mahasiswa = input('Input Nama mahasiswa untuk NIM tersebut: ')\n",
        "    NIM.append(NIM_Mahasiswa)\n",
        "    Nama.append(Nama_Mahasiswa)\n",
        "\n",
        "# Menampilkan data NIM dan Nama Mahasiswa\n",
        "print(\"\\nData Nama Mahasiswa:\")\n",
        "print(\"No  |  NIM   |  Nama\")\n",
        "for i in range(len(NIM)):\n",
        "    print(f\"{i + 1}.  | {NIM[i]}  | {Nama[i]}\")\n"
      ]
    },
    {
      "cell_type": "markdown",
      "source": [
        "**Soal 2** Modifikasi program berikut untuk membuat program sederhana untuk bertujuan untuk memfasilitasi user untuk menginputkan: (1) fungsi; (2) batas intervalnya; (3) galat; (4) maksimum iterasi"
      ],
      "metadata": {
        "id": "bjZa1_oJzz1K"
      }
    },
    {
      "cell_type": "code",
      "source": [
        "def bisection_method(f, a, b, tol, max_iter):\n",
        "    if f(a) * f(b) >= 0:\n",
        "        print(\"Tidak ada perubahan tanda f(a) dan f(b). Metode ini tidak berlaku.\")\n",
        "        return None\n",
        "\n",
        "    iteration = 0\n",
        "    while (b - a) / 2.0 > tol and iteration < max_iter:\n",
        "        c = (a + b) / 2.0\n",
        "        if f(c) == 0:\n",
        "            break\n",
        "        elif f(c) * f(a) < 0:\n",
        "            b = c\n",
        "        else:\n",
        "            a = c\n",
        "        iteration += 1\n",
        "\n",
        "    return (a + b) / 2.0\n",
        "\n",
        "# Meminta pengguna untuk menginputkan fungsi\n",
        "expression = input(\"Masukkan fungsi (gunakan 'x' sebagai variabel): \")\n",
        "def f(x):\n",
        "    # Evaluasi ekspresi fungsi yang diinputkan\n",
        "    return eval(expression)\n",
        "\n",
        "# Meminta pengguna untuk menginputkan batas interval\n",
        "a = float(input(\"Masukkan batas awal interval (a): \"))\n",
        "b = float(input(\"Masukkan batas akhir interval (b): \"))\n",
        "\n",
        "# Meminta pengguna untuk menginputkan toleransi\n",
        "toleransi = float(input(\"Masukkan toleransi (contoh: 1e-6): \"))\n",
        "\n",
        "# Meminta pengguna untuk menginputkan jumlah maksimum iterasi\n",
        "maksimal_iterasi = int(input(\"Masukkan jumlah maksimum iterasi: \"))\n",
        "\n",
        "# Panggil fungsi bisection_method untuk mencari akar\n",
        "akar = bisection_method(f, a, b, toleransi, maksimal_iterasi)\n",
        "\n",
        "if akar is not None:\n",
        "    print(\"Akar dari fungsi adalah:\", akar)\n",
        "else:\n",
        "    print(\"Metode bagi dua tidak konvergen dalam iterasi yang diberikan.\")\n"
      ],
      "metadata": {
        "colab": {
          "base_uri": "https://localhost:8080/"
        },
        "id": "ARf5UEGgupui",
        "outputId": "63647e27-0ba2-477e-c00d-9cdbf0cfb274"
      },
      "execution_count": 3,
      "outputs": [
        {
          "output_type": "stream",
          "name": "stdout",
          "text": [
            "Masukkan fungsi (gunakan 'x' sebagai variabel): x\n",
            "Masukkan batas awal interval (a): 2\n",
            "Masukkan batas akhir interval (b): 3\n",
            "Masukkan toleransi (contoh: 1e-6): 1e-6\n",
            "Masukkan jumlah maksimum iterasi: 3\n",
            "Tidak ada perubahan tanda f(a) dan f(b). Metode ini tidak berlaku.\n",
            "Metode bagi dua tidak konvergen dalam iterasi yang diberikan.\n"
          ]
        }
      ]
    },
    {
      "cell_type": "markdown",
      "source": [
        "**Soal 3** Modifikasi program berikut untuk melakukan interpolasi dengan Metode Newton"
      ],
      "metadata": {
        "id": "HjNlwWi_0V1h"
      }
    },
    {
      "cell_type": "code",
      "source": [
        "def newton_interpolation(points):\n",
        "    n = len(points)\n",
        "    divided_differences = []\n",
        "\n",
        "    for i in range(n):\n",
        "        divided_differences.append(points[i][1])\n",
        "\n",
        "    for j in range(1, n):\n",
        "        for i in range(n - 1, j - 1, -1):\n",
        "            divided_differences[i] = (divided_differences[i] - divided_differences[i - 1]) / (points[i][0] - points[i - j][0])\n",
        "\n",
        "    def newton_poly(x):\n",
        "        result = divided_differences[0]\n",
        "        term = 1\n",
        "        for i in range(1, n):\n",
        "            term *= (x - points[i - 1][0])\n",
        "            result += divided_differences[i] * term\n",
        "        return result\n",
        "\n",
        "    return newton_poly\n",
        "\n",
        "# Meminta pengguna untuk memasukkan pasangan titik\n",
        "n = int(input(\"Jumlah pasangan titik: \"))\n",
        "points = []\n",
        "\n",
        "for i in range(n):\n",
        "    x = float(input(f\"Masukkan x_{i}: \"))\n",
        "    y = float(input(f\"Masukkan y_{i}: \"))\n",
        "    points.append((x, y))\n",
        "\n",
        "# Membuat fungsi interpolasi Newton\n",
        "newton_function = newton_interpolation(points)\n",
        "\n",
        "# Meminta pengguna untuk memasukkan nilai x yang ingin dicari\n",
        "x_input = float(input(\"Masukkan nilai x untuk mencari y: \"))\n",
        "\n",
        "# Menghitung y menggunakan interpolasi Newton\n",
        "y_output = newton_function(x_input)\n",
        "\n",
        "print(f\"Nilai y yang sesuai dengan x = {x_input} adalah {y_output}\")\n",
        "\n",
        "def print_newton_interpolation(points):\n",
        "    n = len(points)\n",
        "    newton_interpolation = \"\"\n",
        "\n",
        "    for i in range(n):\n",
        "        term = f\"{points[i][1]:.6f}\"\n",
        "\n",
        "        for j in range(i):\n",
        "            term += f\" * (x - {points[j][0]:.6f})\"\n",
        "\n",
        "        if i < n - 1:\n",
        "            term += \" + \"\n",
        "\n",
        "        newton_interpolation += term\n",
        "\n",
        "    print(\"Polinom Interpolasi Newton:\")\n",
        "    print(newton_interpolation)\n",
        "\n",
        "# Menampilkan polinom Interpolasi Newton\n",
        "print_newton_interpolation(points)\n"
      ],
      "metadata": {
        "colab": {
          "base_uri": "https://localhost:8080/"
        },
        "id": "0xDzmdU1vQwp",
        "outputId": "19c42dba-3c53-4366-8ad6-0a7f2310a19c"
      },
      "execution_count": 6,
      "outputs": [
        {
          "output_type": "stream",
          "name": "stdout",
          "text": [
            "Jumlah pasangan titik: 2\n",
            "Masukkan x_0: 1\n",
            "Masukkan y_0: 2\n",
            "Masukkan x_1: 3\n",
            "Masukkan y_1: 4\n",
            "Masukkan nilai x untuk mencari y: 1\n",
            "Nilai y yang sesuai dengan x = 1.0 adalah 2.0\n",
            "Polinom Interpolasi Newton:\n",
            "2.000000 + 4.000000 * (x - 1.000000)\n"
          ]
        }
      ]
    },
    {
      "cell_type": "markdown",
      "source": [
        "**Soal 4** Modifikasi program berikut untuk mencari SPL dengan Metode Eliminasi Gauss berikut agar dapat mendeteksi input user untuk SPL yang tidak punya solusi atau punya solusi banyak."
      ],
      "metadata": {
        "id": "97zHQTQR0sUm"
      }
    },
    {
      "cell_type": "code",
      "source": [
        "def gauss_elimination(A, b):\n",
        "    n = len(b)\n",
        "    singular = False  # Inisialisasi untuk mendeteksi solusi banyak atau tidak ada solusi\n",
        "\n",
        "    # Eliminasi maju (forward elimination)\n",
        "    for k in range(n - 1):\n",
        "        if A[k][k] == 0:\n",
        "            singular = True\n",
        "            break\n",
        "        for i in range(k + 1, n):\n",
        "            factor = A[i][k] / A[k][k]\n",
        "            for j in range(k, n):\n",
        "                A[i][j] -= factor * A[k][j]\n",
        "            b[i] -= factor * b[k]\n",
        "\n",
        "    if singular:\n",
        "        return None, \"SPL tidak memiliki solusi atau memiliki solusi banyak\"\n",
        "\n",
        "    # Substitusi mundur (backward substitution)\n",
        "    x = [0] * n\n",
        "    for k in range(n - 1, -1, -1):\n",
        "        x[k] = b[k]\n",
        "        for j in range(k + 1, n):\n",
        "            x[k] -= A[k][j] * x[j]\n",
        "        x[k] /= A[k][k]\n",
        "\n",
        "    return x, \"SPL memiliki solusi tunggal\"\n",
        "\n",
        "# Meminta pengguna untuk memasukkan jumlah persamaan\n",
        "n = int(input(\"Jumlah persamaan: \"))\n",
        "\n",
        "# Memasukkan koefisien SPL (matriks A)\n",
        "A = []\n",
        "print(\"Masukkan koefisien matriks A:\")\n",
        "for i in range(n):\n",
        "    row = []\n",
        "    for j in range(n):\n",
        "        row.append(float(input(f\"A[{i + 1}],[{j + 1}]: \"))\n",
        "    A.append(row)\n",
        "\n",
        "# Memasukkan vektor hasil (matriks b)\n",
        "b = []\n",
        "print(\"Masukkan vektor hasil b:\")\n",
        "for i in range(n):\n",
        "    b.append(float(input(f\"b[{i + 1}]: \"))\n",
        "\n",
        "# Memanggil fungsi gauss_elimination untuk menyelesaikan SPL\n",
        "solusi, status = gauss_elimination(A, b)\n",
        "\n",
        "# Menampilkan solusi SPL atau pesan tentang status solusi\n",
        "if solusi:\n",
        "    print(\"Solusi SPL:\")\n",
        "    for i in range(n):\n",
        "        print(f\"x[{i + 1}] = {solusi[i]}\")\n",
        "else:\n",
        "    print(status)\n"
      ],
      "metadata": {
        "colab": {
          "base_uri": "https://localhost:8080/",
          "height": 141
        },
        "id": "b1aLpD8BwEPB",
        "outputId": "551520c2-ab4a-4b88-d016-06814df672f3"
      },
      "execution_count": 9,
      "outputs": [
        {
          "output_type": "error",
          "ename": "SyntaxError",
          "evalue": "ignored",
          "traceback": [
            "\u001b[0;36m  File \u001b[0;32m\"<ipython-input-9-f59db2f29789>\"\u001b[0;36m, line \u001b[0;32m38\u001b[0m\n\u001b[0;31m    row.append(float(input(f\"A[{i + 1}],[{j + 1}]: \"))\u001b[0m\n\u001b[0m               ^\u001b[0m\n\u001b[0;31mSyntaxError\u001b[0m\u001b[0;31m:\u001b[0m invalid syntax. Perhaps you forgot a comma?\n"
          ]
        }
      ]
    }
  ]
}